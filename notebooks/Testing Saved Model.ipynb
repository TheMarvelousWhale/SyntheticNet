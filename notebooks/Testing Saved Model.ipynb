{
 "cells": [
  {
   "cell_type": "code",
   "execution_count": 5,
   "id": "5199cf10-a827-409a-8565-8db5bb3ab560",
   "metadata": {},
   "outputs": [
    {
     "data": {
      "text/plain": [
       "<All keys matched successfully>"
      ]
     },
     "execution_count": 5,
     "metadata": {},
     "output_type": "execute_result"
    }
   ],
   "source": [
    "import torch\n",
    "import torch.nn as nn\n",
    "import pandas as pd\n",
    "import numpy as np\n",
    "import re\n",
    "\n",
    "class DenseNet(nn.Module):\n",
    "    def __init__(self,context_length,embed_size=100):\n",
    "        super().__init__()\n",
    "        self.n = context_length*2\n",
    "        self.embed_size = 100\n",
    "        self.act = nn.ReLU()\n",
    "        self.out = nn.Tanh() \n",
    "        self.hidden1 = nn.Linear(self.n*self.embed_size,2048)\n",
    "        self.hidden2 = nn.Linear(2048,512)\n",
    "        self.hidden3 = nn.Linear(512,self.embed_size)\n",
    " \n",
    "    def forward(self,x):\n",
    "        x = x.view(x.size(0), -1)\n",
    "        x = self.act(self.hidden1(x))\n",
    "        x = self.act(self.hidden2(x))\n",
    "        x = self.out(self.hidden3(x))\n",
    "        return x\n",
    "    \n",
    "\n",
    "\n",
    "model_to_test =  DenseNet(context_length = 10)\n",
    "model_to_test.load_state_dict(torch.load('../outputs/2021-08_wiki_only_5words-covid_splendid-sunset-8.pt'))"
   ]
  },
  {
   "cell_type": "code",
   "execution_count": 6,
   "id": "277468d9-209f-4e3e-891a-1d074d754d91",
   "metadata": {},
   "outputs": [],
   "source": [
    "from util import *\n",
    "\n",
    "#Loading the data\n",
    "W_norm,vocab,ivocab = load_glove()"
   ]
  },
  {
   "cell_type": "code",
   "execution_count": 7,
   "id": "9e391fe6-39f9-4f1a-a793-1077bf37fee0",
   "metadata": {},
   "outputs": [
    {
     "name": "stdout",
     "output_type": "stream",
     "text": [
      "Test 3: Custom Test\n",
      "\n",
      "<pad> <pad> <pad> <pad> <pad> <pad> emergency use authorization allows covid vaccine distributed us use individuals years age older <pad>\n",
      "\n",
      "\n",
      "(400000,)\n",
      "\n",
      "                               Word       Unnormalized Cosine distance\n",
      "\n",
      "---------------------------------------------------------\n",
      "\n",
      "0                            disease\t\t0.972045\n",
      "1                           diseases\t\t0.861759\n",
      "2                          infection\t\t0.804020\n",
      "3                            illness\t\t0.774055\n",
      "4                              virus\t\t0.764235\n",
      "5                             cancer\t\t0.760667\n",
      "6                         infections\t\t0.744311\n",
      "7                           epidemic\t\t0.741166\n",
      "8                       tuberculosis\t\t0.734336\n",
      "9                           infected\t\t0.726196\n",
      "\n",
      "\n",
      "\t\tCosim score: [0.7071136]\n"
     ]
    }
   ],
   "source": [
    "random_sent = '<pad> <pad> <pad> <pad> <pad> <pad> emergency use authorization allows covid vaccine distributed us use individuals years age older <pad> '\n",
    "target_word = 'pneumonia'\n",
    "target_label = np.array(get_glove_vec(target_word,W_norm,vocab))\n",
    "random_sent = re.sub('[\\n\\r\\ ]+',' ',random_sent).strip()\n",
    "\n",
    "sample_tensor = torch.Tensor([[get_glove_vec(word,W_norm,vocab) for word in random_sent.split(' ')]])\n",
    "sample_output = model_to_test(sample_tensor)\n",
    "output = sample_output.squeeze(1)\n",
    "vec_output = output.detach().numpy()\n",
    "print(f\"Test 3: Custom Test\\n\\n{random_sent}\\n\\n\")\n",
    "def __distance(W, vocab, ivocab, vec_output):\n",
    "\n",
    "\n",
    "    dist = np.dot(W, vec_output.T).squeeze(1)\n",
    "    print(dist.shape)\n",
    "    a = np.argsort(-dist)[:10]\n",
    "\n",
    "    print(\"\\n                               Word       Unnormalized Cosine distance\\n\")\n",
    "    print(\"---------------------------------------------------------\\n\")\n",
    "    for i,x in enumerate(a):\n",
    "        print(\"%d%35s\\t\\t%f\" % (i,ivocab[str(x)], dist[x]))\n",
    "\n",
    "def cosim(v1,v2):\n",
    "    return np.dot(v1,v2)/(np.linalg.norm(v1)*np.linalg.norm(v2))\n",
    "\n",
    "__distance(W_norm,vocab,ivocab,vec_output)\n",
    "print(f\"\\n\\n\\t\\tCosim score: {cosim(vec_output,target_label)}\")"
   ]
  },
  {
   "cell_type": "code",
   "execution_count": 10,
   "id": "fa6ad837-3427-4490-98eb-a8a49c010ffe",
   "metadata": {},
   "outputs": [
    {
     "name": "stdout",
     "output_type": "stream",
     "text": [
      "(400000,)\n",
      "\n",
      "                               Word       Unnormalized Cosine distance\n",
      "\n",
      "---------------------------------------------------------\n",
      "\n",
      "0                            disease\t\t0.955879\n",
      "1                           diseases\t\t0.848173\n",
      "2                          infection\t\t0.794759\n",
      "3                              virus\t\t0.761556\n",
      "4                            illness\t\t0.761492\n",
      "5                             cancer\t\t0.744749\n",
      "6                           epidemic\t\t0.742815\n",
      "7                         infections\t\t0.736916\n",
      "8                       tuberculosis\t\t0.726880\n",
      "9                                flu\t\t0.724777\n",
      "\n",
      "\n",
      "\t\tCosim score: [0.71008273]\n"
     ]
    }
   ],
   "source": [
    "infer_batch = []\n",
    "with open('../processed_data/cat_corpus_c10.txt','r',encoding='utf-8') as f:\n",
    "    sents = f.readlines()\n",
    "    for line in sents:\n",
    "        x = re.sub('[\\r\\n\\ ]+',' ',line)\n",
    "        infer_batch.append(np.array([get_glove_vec(w,W_norm,vocab) for w in x.strip().split(' ')]))\n",
    "        \n",
    "sample_infer = torch.tensor(np.array(infer_batch)).float()\n",
    "\n",
    "sample_output = model_to_test(sample_infer)\n",
    "\n",
    "a = torch.mean(sample_output,axis = 0).detach().numpy().reshape((1,100))\n",
    "__distance(W_norm,vocab,ivocab,a)\n",
    "print(f\"\\n\\n\\t\\tCosim score: {cosim(a,target_label)}\")"
   ]
  },
  {
   "cell_type": "code",
   "execution_count": null,
   "id": "c7fd084d-5bd4-4ede-bf7a-c325e6d4857a",
   "metadata": {},
   "outputs": [],
   "source": []
  }
 ],
 "metadata": {
  "kernelspec": {
   "display_name": "Torch",
   "language": "python",
   "name": "torch"
  },
  "language_info": {
   "codemirror_mode": {
    "name": "ipython",
    "version": 3
   },
   "file_extension": ".py",
   "mimetype": "text/x-python",
   "name": "python",
   "nbconvert_exporter": "python",
   "pygments_lexer": "ipython3",
   "version": "3.9.6"
  }
 },
 "nbformat": 4,
 "nbformat_minor": 5
}
