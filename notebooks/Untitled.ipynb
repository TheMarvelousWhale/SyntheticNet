{
 "cells": [
  {
   "cell_type": "code",
   "execution_count": 17,
   "id": "d1d0c1d5-8d08-4ac6-9e41-6aeeff916259",
   "metadata": {},
   "outputs": [
    {
     "name": "stdout",
     "output_type": "stream",
     "text": [
      "Number of sentences: 496\n",
      "Number of words: 9560\n",
      "Number of stems: 2667\n",
      "Number of lemmas: 3129\n"
     ]
    }
   ],
   "source": [
    "import requests\n",
    "from bs4 import BeautifulSoup\n",
    "import re \n",
    "from nltk.tokenize import sent_tokenize, word_tokenize\n",
    "from nltk.stem import PorterStemmer, WordNetLemmatizer\n",
    "from collections import Counter\n",
    "ps = PorterStemmer()\n",
    "lz = WordNetLemmatizer()\n",
    "\n",
    "#get a page with request lib\n",
    "URL = \"https://en.wikipedia.org/wiki/Sagrada_Fam%C3%ADlia\"\n",
    "page = requests.get(URL)\n",
    "\n",
    "#parse it with BS4\n",
    "soup = BeautifulSoup(page.content, \"html.parser\")\n",
    "\n",
    "#some cleaning with re\n",
    "s = re.sub(r'[\\n\\r\\ ]+',' ',soup.get_text()).strip()\n",
    "s= re.sub(r'[^a-zA-Z0-9 .,?!-]','',s)\n",
    "\n",
    "#sentence tokenize\n",
    "sents = sent_tokenize(s)\n",
    "print(f\"Number of sentences: {len(sents)}\")\n",
    "\n",
    "#word tokenize\n",
    "words = word_tokenize(s)\n",
    "print(f\"Number of words: {len(words)}\")\n",
    "\n",
    "#stemmer and lemmatizer\n",
    "stems = [ps.stem(w) for w in words]\n",
    "stem_counter = Counter(stems)\n",
    "print(f\"Number of stems: {len(stem_counter)}\")\n",
    "\n",
    "lemmas = [lz.lemmatize(w) for w in words]\n",
    "lemma_counter = Counter(lemmas)\n",
    "print(f\"Number of lemmas: {len(lemma_counter)}\")\n",
    "\n"
   ]
  },
  {
   "cell_type": "code",
   "execution_count": 19,
   "id": "749da166-ac7f-4b9a-9b35-e7c1a0df4b66",
   "metadata": {},
   "outputs": [
    {
     "name": "stdout",
     "output_type": "stream",
     "text": [
      "0.09684838851826462\n"
     ]
    }
   ],
   "source": [
    "result = 1\n",
    "for i in range(325,366):\n",
    "    result = result*i/365\n",
    "print(result)"
   ]
  },
  {
   "cell_type": "code",
   "execution_count": null,
   "id": "5ea619aa-ec2f-4cbf-afea-761f16d950ad",
   "metadata": {},
   "outputs": [],
   "source": []
  }
 ],
 "metadata": {
  "kernelspec": {
   "display_name": "Torch",
   "language": "python",
   "name": "torch"
  },
  "language_info": {
   "codemirror_mode": {
    "name": "ipython",
    "version": 3
   },
   "file_extension": ".py",
   "mimetype": "text/x-python",
   "name": "python",
   "nbconvert_exporter": "python",
   "pygments_lexer": "ipython3",
   "version": "3.9.6"
  }
 },
 "nbformat": 4,
 "nbformat_minor": 5
}
