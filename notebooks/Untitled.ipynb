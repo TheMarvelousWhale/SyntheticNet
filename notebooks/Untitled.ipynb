{
 "cells": [
  {
   "cell_type": "code",
   "execution_count": 66,
   "id": "8355d28d-0e25-4c80-a559-6e4c0fb32010",
   "metadata": {},
   "outputs": [],
   "source": [
    "from transformers import BertTokenizer\n",
    "from transformers import AutoModel"
   ]
  },
  {
   "cell_type": "code",
   "execution_count": 67,
   "id": "ae04ea98-80cf-46c6-82e5-d576b2e56729",
   "metadata": {},
   "outputs": [],
   "source": [
    "tokenizer = BertTokenizer.from_pretrained(\"bert-base-multilingual-cased\")"
   ]
  },
  {
   "cell_type": "code",
   "execution_count": 76,
   "id": "196d9351-6783-4686-bfe9-cc060a791bea",
   "metadata": {},
   "outputs": [
    {
     "name": "stdout",
     "output_type": "stream",
     "text": [
      "['p', '##fi', '##zer', 'is', 'working', 'well']\n",
      "{'input_ids': [101, 184, 14403, 14210, 10124, 14616, 11206, 102], 'token_type_ids': [0, 0, 0, 0, 0, 0, 0, 0], 'attention_mask': [1, 1, 1, 1, 1, 1, 1, 1]}\n"
     ]
    }
   ],
   "source": [
    "test_sent = \"pfizer is working well\"\n",
    "print(tokenizer.tokenize(test_sent)) #check the tokenize\n",
    "\n",
    "print(tokenizer(test_sent))\n",
    "len_ids = len(tokenizer(test_sent)['input_ids'])"
   ]
  },
  {
   "cell_type": "code",
   "execution_count": 69,
   "id": "22ec0da0-a641-4091-a668-9693c9eccf4d",
   "metadata": {},
   "outputs": [
    {
     "name": "stderr",
     "output_type": "stream",
     "text": [
      "Some weights of the model checkpoint at bert-base-multilingual-cased were not used when initializing BertModel: ['cls.predictions.transform.LayerNorm.bias', 'cls.predictions.transform.LayerNorm.weight', 'cls.seq_relationship.weight', 'cls.predictions.transform.dense.bias', 'cls.predictions.bias', 'cls.predictions.transform.dense.weight', 'cls.predictions.decoder.weight', 'cls.seq_relationship.bias']\n",
      "- This IS expected if you are initializing BertModel from the checkpoint of a model trained on another task or with another architecture (e.g. initializing a BertForSequenceClassification model from a BertForPreTraining model).\n",
      "- This IS NOT expected if you are initializing BertModel from the checkpoint of a model that you expect to be exactly identical (initializing a BertForSequenceClassification model from a BertForSequenceClassification model).\n"
     ]
    },
    {
     "name": "stdout",
     "output_type": "stream",
     "text": [
      "\n"
     ]
    }
   ],
   "source": [
    "model = AutoModel.from_pretrained(\"bert-base-multilingual-cased\",output_hidden_states = True)\n",
    "model.eval()\n",
    "print()"
   ]
  },
  {
   "cell_type": "code",
   "execution_count": 70,
   "id": "4c427670-7620-4c59-98ea-90d30b61baa7",
   "metadata": {},
   "outputs": [],
   "source": [
    "ids = torch.tensor([tokenizer(test_sent)[\"input_ids\"]])\n",
    "segments = torch.tensor([tokenizer(test_sent)['token_type_ids']])"
   ]
  },
  {
   "cell_type": "code",
   "execution_count": 71,
   "id": "62012a77-d033-4588-b8e0-be6a092e2aba",
   "metadata": {},
   "outputs": [],
   "source": [
    "import torch\n",
    "with torch.no_grad():\n",
    "    outputs = model(ids,segments)\n",
    "    hidden_states = outputs[2]\n",
    "\n"
   ]
  },
  {
   "cell_type": "code",
   "execution_count": 77,
   "id": "7b07a115-182a-4323-9641-b05b5a106479",
   "metadata": {},
   "outputs": [],
   "source": [
    "token_vecs_sum = []\n",
    "for i in range(len_ids):\n",
    "    word_embed = hidden_states[-3][0][i] + hidden_states[-2][0][i] + hidden_states[-1][0][i]\n",
    "    token_vecs_sum.append(word_embed)"
   ]
  },
  {
   "cell_type": "code",
   "execution_count": 78,
   "id": "2d6e916d-e588-4ae6-8e77-c860cdffd4dd",
   "metadata": {},
   "outputs": [
    {
     "data": {
      "text/plain": [
       "8"
      ]
     },
     "execution_count": 78,
     "metadata": {},
     "output_type": "execute_result"
    }
   ],
   "source": []
  },
  {
   "cell_type": "code",
   "execution_count": null,
   "id": "b7d5cdf4-ed2b-497a-9161-cc1b654a5534",
   "metadata": {},
   "outputs": [],
   "source": []
  },
  {
   "cell_type": "code",
   "execution_count": null,
   "id": "59977b8d-7ac0-404e-89b7-0166760becb9",
   "metadata": {},
   "outputs": [],
   "source": [
    "# Stores the token vectors, with shape [22 x 768]\n",
    "token_vecs_sum = []# `token_embeddings` is a [22 x 12 x 768] tensor.# For each token in the sentence...\n",
    "for token in token_embeddings:# `token` is a [12 x 768] tensor# Sum the vectors from the last four layers.\n",
    "    sum_vec = torch.sum(token[-4:], dim=0)\n",
    "    \n",
    "    # Use `sum_vec` to represent `token`.\n",
    "    token_vecs_sum.append(sum_vec)print ('Shape is: %d x %d' % (len(token_vecs_sum), len(token_vecs_sum[0])))Shape is: 22 x 768"
   ]
  }
 ],
 "metadata": {
  "kernelspec": {
   "display_name": "Torch",
   "language": "python",
   "name": "torch"
  },
  "language_info": {
   "codemirror_mode": {
    "name": "ipython",
    "version": 3
   },
   "file_extension": ".py",
   "mimetype": "text/x-python",
   "name": "python",
   "nbconvert_exporter": "python",
   "pygments_lexer": "ipython3",
   "version": "3.9.4"
  }
 },
 "nbformat": 4,
 "nbformat_minor": 5
}
