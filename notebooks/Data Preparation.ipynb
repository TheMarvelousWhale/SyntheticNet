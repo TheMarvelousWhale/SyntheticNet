{
 "cells": [
  {
   "cell_type": "code",
   "execution_count": 1,
   "id": "bdb3fb91-034a-4151-93e9-9d83d98eda07",
   "metadata": {},
   "outputs": [],
   "source": [
    "## we will collect all sentences with the word cat as center word\n",
    "import re\n",
    "import os"
   ]
  },
  {
   "cell_type": "code",
   "execution_count": 2,
   "id": "b4141515-c72d-426d-b17f-47f8a978bd6a",
   "metadata": {},
   "outputs": [],
   "source": [
    "target_word = \"cat\"\n",
    "corpus_path = \"\"\n",
    "context_length = 2"
   ]
  },
  {
   "cell_type": "code",
   "execution_count": 3,
   "id": "4dfb4141-737d-41d0-8e54-34500eb86ef5",
   "metadata": {},
   "outputs": [],
   "source": [
    "from nltk.corpus import stopwords"
   ]
  },
  {
   "cell_type": "code",
   "execution_count": 4,
   "id": "05affa55-1a4e-4ee3-b1da-21b31b0937a3",
   "metadata": {},
   "outputs": [],
   "source": [
    "from tqdm import tqdm"
   ]
  },
  {
   "cell_type": "code",
   "execution_count": 5,
   "id": "8a7c45e8-e226-46c7-8ed5-d2e8bde4adcf",
   "metadata": {},
   "outputs": [
    {
     "name": "stdout",
     "output_type": "stream",
     "text": [
      "['<pad>', '<pad>', 'beautiful', 'creature']\n",
      "['<pad>', '<pad>', 'licks', '<pad>']\n",
      "['dog', 'eats', '<pad>', '<pad>']\n",
      "No target found in sentence\n",
      "['<pad>', '<pad>', '<pad>', '<pad>']\n"
     ]
    }
   ],
   "source": [
    "#Sanity test\n",
    "s1 = \"Cat is a beautiful creature\"\n",
    "s2 = \"a cat licks \"\n",
    "s3 = \"An animal is a cat that is nice\"\n",
    "s3 = \"The dog eats the cat\"\n",
    "s4 = \"\"\n",
    "s5 = \"cat\"\n",
    "pad = \"<pad>\"\n",
    "\n",
    "stopword_list = stopwords.words('english')\n",
    "\n",
    "def extract(sentence,target_word,context_length,pad,debug=True):\n",
    "    target_word = target_word.lower()\n",
    "    sentence = sentence.lower()\n",
    "    if target_word not in sentence: #reduce processing\n",
    "        return\n",
    "    \n",
    "    s = sentence.lower().strip()\n",
    "    s = re.sub('[\\n\\r\\ ]+',' ',s)\n",
    "    s = re.sub('[^a-z ]+','',s)\n",
    "    \n",
    "    t = target_word\n",
    "    raw_tokens = s.split(' ')\n",
    "    tokens = [i for i in raw_tokens if i != '' and i not in stopword_list]\n",
    "    word_list = []\n",
    "    if t in tokens:\n",
    "        __index = tokens.index(t)        # this only get one utterance, what about other utterances? \n",
    "        if __index < context_length:      #pad front\n",
    "            word_list += [pad for _ in range(context_length-__index)]\n",
    "            word_list += tokens[:__index]      #pad back\n",
    "        else:\n",
    "            word_list += tokens[__index-context_length:__index]\n",
    "        if __index + context_length >= len(tokens):\n",
    "            word_list += tokens[__index+1:]\n",
    "            word_list += [pad for _ in range(context_length + __index + 1 - len(tokens))]\n",
    "        else:\n",
    "            word_list += tokens[__index+1:__index+context_length+1]\n",
    "        return word_list\n",
    "\n",
    "\n",
    "    else:   #target not found:\n",
    "        return None\n",
    "\n",
    "debug = True\n",
    "if debug:\n",
    "    for s in [s1,s2,s3,s4,s5]:\n",
    "        result = extract(s,target_word,context_length,pad)\n",
    "        if result == None:\n",
    "            print(\"No target found in sentence\")\n",
    "        else:\n",
    "            print(result)"
   ]
  },
  {
   "cell_type": "code",
   "execution_count": 6,
   "id": "ea0243e5-d542-4648-8bca-0cd635f24ea9",
   "metadata": {},
   "outputs": [
    {
     "name": "stdout",
     "output_type": "stream",
     "text": [
      "Number of files is: 42\n"
     ]
    }
   ],
   "source": [
    "#collect filepaths\n",
    "\n",
    "wiki_dataset_dir = \"D:/DATASETS_UNZIP/Datasets/text\"\n",
    "gigaword_dir = \"D:/DATASETS_UNZIP/Datasets/gigaword\"\n",
    "filepath_list = []\n",
    "wiki = False\n",
    "giga = True\n",
    "#Extracting from wiki \n",
    "if wiki == True:\n",
    "    for folder in os.listdir(wiki_dataset_dir):\n",
    "        for file in os.listdir(wiki_dataset_dir+'/'+folder):\n",
    "            filepath_list.append(wiki_dataset_dir+'/'+folder+'/'+file)\n",
    "        \n",
    "#Extracting from gigaword \n",
    "if giga == True:\n",
    "    for file in os.listdir(gigaword_dir):\n",
    "        filepath_list.append(gigaword_dir+'/'+file)\n",
    "print(f\"Number of files is: {len(filepath_list)}\")\n"
   ]
  },
  {
   "cell_type": "code",
   "execution_count": 7,
   "id": "2aef99fe-fd1c-42a9-bd0b-0037be7a4223",
   "metadata": {
    "scrolled": true,
    "tags": []
   },
   "outputs": [
    {
     "name": "stderr",
     "output_type": "stream",
     "text": [
      "  0%|                                                                                           | 0/42 [00:00<?, ?it/s]"
     ]
    },
    {
     "name": "stdout",
     "output_type": "stream",
     "text": [
      "Written 10000 into file ../processed_data/giga_only/disease_corpus_stopwords_c10.txt\n"
     ]
    },
    {
     "name": "stderr",
     "output_type": "stream",
     "text": [
      "  2%|█▉                                                                                 | 1/42 [00:11<07:39, 11.20s/it]"
     ]
    },
    {
     "name": "stdout",
     "output_type": "stream",
     "text": [
      "Written 20000 into file ../processed_data/giga_only/disease_corpus_stopwords_c10.txt\n",
      "Written 30000 into file ../processed_data/giga_only/disease_corpus_stopwords_c10.txt\n"
     ]
    },
    {
     "name": "stderr",
     "output_type": "stream",
     "text": [
      "  5%|███▉                                                                               | 2/42 [00:22<07:19, 10.99s/it]"
     ]
    },
    {
     "name": "stdout",
     "output_type": "stream",
     "text": [
      "Written 40000 into file ../processed_data/giga_only/disease_corpus_stopwords_c10.txt\n"
     ]
    },
    {
     "name": "stderr",
     "output_type": "stream",
     "text": [
      "  7%|█████▉                                                                             | 3/42 [00:32<07:01, 10.81s/it]"
     ]
    },
    {
     "name": "stdout",
     "output_type": "stream",
     "text": [
      "Written 50000 into file ../processed_data/giga_only/disease_corpus_stopwords_c10.txt\n"
     ]
    },
    {
     "name": "stderr",
     "output_type": "stream",
     "text": [
      " 10%|███████▉                                                                           | 4/42 [00:43<06:51, 10.82s/it]"
     ]
    },
    {
     "name": "stdout",
     "output_type": "stream",
     "text": [
      "Written 60000 into file ../processed_data/giga_only/disease_corpus_stopwords_c10.txt\n"
     ]
    },
    {
     "name": "stderr",
     "output_type": "stream",
     "text": [
      " 12%|█████████▉                                                                         | 5/42 [00:53<06:30, 10.55s/it]"
     ]
    },
    {
     "name": "stdout",
     "output_type": "stream",
     "text": [
      "Written 70000 into file ../processed_data/giga_only/disease_corpus_stopwords_c10.txt\n"
     ]
    },
    {
     "name": "stderr",
     "output_type": "stream",
     "text": [
      " 14%|███████████▊                                                                       | 6/42 [01:03<06:18, 10.51s/it]"
     ]
    },
    {
     "name": "stdout",
     "output_type": "stream",
     "text": [
      "Written 80000 into file ../processed_data/giga_only/disease_corpus_stopwords_c10.txt\n",
      "Written 90000 into file ../processed_data/giga_only/disease_corpus_stopwords_c10.txt\n"
     ]
    },
    {
     "name": "stderr",
     "output_type": "stream",
     "text": [
      " 17%|█████████████▊                                                                     | 7/42 [01:15<06:24, 10.97s/it]"
     ]
    },
    {
     "name": "stdout",
     "output_type": "stream",
     "text": [
      "Written 100000 into file ../processed_data/giga_only/disease_corpus_stopwords_c10.txt\n"
     ]
    },
    {
     "name": "stderr",
     "output_type": "stream",
     "text": [
      " 19%|███████████████▊                                                                   | 8/42 [01:26<06:06, 10.79s/it]"
     ]
    },
    {
     "name": "stdout",
     "output_type": "stream",
     "text": [
      "Written 110000 into file ../processed_data/giga_only/disease_corpus_stopwords_c10.txt\n"
     ]
    },
    {
     "name": "stderr",
     "output_type": "stream",
     "text": [
      " 21%|█████████████████▊                                                                 | 9/42 [01:36<05:53, 10.71s/it]"
     ]
    },
    {
     "name": "stdout",
     "output_type": "stream",
     "text": [
      "Written 120000 into file ../processed_data/giga_only/disease_corpus_stopwords_c10.txt\n"
     ]
    },
    {
     "name": "stderr",
     "output_type": "stream",
     "text": [
      " 24%|███████████████████▌                                                              | 10/42 [01:47<05:39, 10.62s/it]"
     ]
    },
    {
     "name": "stdout",
     "output_type": "stream",
     "text": [
      "Written 130000 into file ../processed_data/giga_only/disease_corpus_stopwords_c10.txt\n"
     ]
    },
    {
     "name": "stderr",
     "output_type": "stream",
     "text": [
      " 26%|█████████████████████▍                                                            | 11/42 [01:57<05:26, 10.55s/it]"
     ]
    },
    {
     "name": "stdout",
     "output_type": "stream",
     "text": [
      "Written 140000 into file ../processed_data/giga_only/disease_corpus_stopwords_c10.txt\n"
     ]
    },
    {
     "name": "stderr",
     "output_type": "stream",
     "text": [
      " 29%|███████████████████████▍                                                          | 12/42 [02:08<05:16, 10.54s/it]"
     ]
    },
    {
     "name": "stdout",
     "output_type": "stream",
     "text": [
      "Written 150000 into file ../processed_data/giga_only/disease_corpus_stopwords_c10.txt\n"
     ]
    },
    {
     "name": "stderr",
     "output_type": "stream",
     "text": [
      " 31%|█████████████████████████▍                                                        | 13/42 [02:18<05:06, 10.58s/it]"
     ]
    },
    {
     "name": "stdout",
     "output_type": "stream",
     "text": [
      "Written 160000 into file ../processed_data/giga_only/disease_corpus_stopwords_c10.txt\n"
     ]
    },
    {
     "name": "stderr",
     "output_type": "stream",
     "text": [
      " 33%|███████████████████████████▎                                                      | 14/42 [02:30<05:04, 10.88s/it]"
     ]
    },
    {
     "name": "stdout",
     "output_type": "stream",
     "text": [
      "Written 170000 into file ../processed_data/giga_only/disease_corpus_stopwords_c10.txt\n"
     ]
    },
    {
     "name": "stderr",
     "output_type": "stream",
     "text": [
      " 36%|█████████████████████████████▎                                                    | 15/42 [02:41<04:54, 10.89s/it]"
     ]
    },
    {
     "name": "stdout",
     "output_type": "stream",
     "text": [
      "Written 180000 into file ../processed_data/giga_only/disease_corpus_stopwords_c10.txt\n"
     ]
    },
    {
     "name": "stderr",
     "output_type": "stream",
     "text": [
      " 38%|███████████████████████████████▏                                                  | 16/42 [02:51<04:39, 10.73s/it]"
     ]
    },
    {
     "name": "stdout",
     "output_type": "stream",
     "text": [
      "Written 190000 into file ../processed_data/giga_only/disease_corpus_stopwords_c10.txt\n"
     ]
    },
    {
     "name": "stderr",
     "output_type": "stream",
     "text": [
      " 40%|█████████████████████████████████▏                                                | 17/42 [03:02<04:26, 10.66s/it]"
     ]
    },
    {
     "name": "stdout",
     "output_type": "stream",
     "text": [
      "Written 200000 into file ../processed_data/giga_only/disease_corpus_stopwords_c10.txt\n",
      "Written 210000 into file ../processed_data/giga_only/disease_corpus_stopwords_c10.txt\n"
     ]
    },
    {
     "name": "stderr",
     "output_type": "stream",
     "text": [
      " 43%|███████████████████████████████████▏                                              | 18/42 [03:12<04:15, 10.65s/it]"
     ]
    },
    {
     "name": "stdout",
     "output_type": "stream",
     "text": [
      "Written 220000 into file ../processed_data/giga_only/disease_corpus_stopwords_c10.txt\n"
     ]
    },
    {
     "name": "stderr",
     "output_type": "stream",
     "text": [
      " 45%|█████████████████████████████████████                                             | 19/42 [03:23<04:02, 10.56s/it]"
     ]
    },
    {
     "name": "stdout",
     "output_type": "stream",
     "text": [
      "Written 230000 into file ../processed_data/giga_only/disease_corpus_stopwords_c10.txt\n",
      "Written 240000 into file ../processed_data/giga_only/disease_corpus_stopwords_c10.txt\n"
     ]
    },
    {
     "name": "stderr",
     "output_type": "stream",
     "text": [
      " 48%|███████████████████████████████████████                                           | 20/42 [03:33<03:53, 10.60s/it]"
     ]
    },
    {
     "name": "stdout",
     "output_type": "stream",
     "text": [
      "Written 250000 into file ../processed_data/giga_only/disease_corpus_stopwords_c10.txt\n"
     ]
    },
    {
     "name": "stderr",
     "output_type": "stream",
     "text": [
      " 50%|█████████████████████████████████████████                                         | 21/42 [03:44<03:41, 10.53s/it]"
     ]
    },
    {
     "name": "stdout",
     "output_type": "stream",
     "text": [
      "Written 260000 into file ../processed_data/giga_only/disease_corpus_stopwords_c10.txt\n"
     ]
    },
    {
     "name": "stderr",
     "output_type": "stream",
     "text": [
      " 52%|██████████████████████████████████████████▉                                       | 22/42 [03:54<03:30, 10.53s/it]"
     ]
    },
    {
     "name": "stdout",
     "output_type": "stream",
     "text": [
      "Written 270000 into file ../processed_data/giga_only/disease_corpus_stopwords_c10.txt\n"
     ]
    },
    {
     "name": "stderr",
     "output_type": "stream",
     "text": [
      " 55%|████████████████████████████████████████████▉                                     | 23/42 [04:05<03:19, 10.48s/it]"
     ]
    },
    {
     "name": "stdout",
     "output_type": "stream",
     "text": [
      "Written 280000 into file ../processed_data/giga_only/disease_corpus_stopwords_c10.txt\n"
     ]
    },
    {
     "name": "stderr",
     "output_type": "stream",
     "text": [
      " 57%|██████████████████████████████████████████████▊                                   | 24/42 [04:15<03:10, 10.59s/it]"
     ]
    },
    {
     "name": "stdout",
     "output_type": "stream",
     "text": [
      "Written 290000 into file ../processed_data/giga_only/disease_corpus_stopwords_c10.txt\n"
     ]
    },
    {
     "name": "stderr",
     "output_type": "stream",
     "text": [
      " 60%|████████████████████████████████████████████████▊                                 | 25/42 [04:26<02:58, 10.48s/it]"
     ]
    },
    {
     "name": "stdout",
     "output_type": "stream",
     "text": [
      "Written 300000 into file ../processed_data/giga_only/disease_corpus_stopwords_c10.txt\n"
     ]
    },
    {
     "name": "stderr",
     "output_type": "stream",
     "text": [
      " 62%|██████████████████████████████████████████████████▊                               | 26/42 [04:36<02:46, 10.43s/it]"
     ]
    },
    {
     "name": "stdout",
     "output_type": "stream",
     "text": [
      "Written 310000 into file ../processed_data/giga_only/disease_corpus_stopwords_c10.txt\n"
     ]
    },
    {
     "name": "stderr",
     "output_type": "stream",
     "text": [
      " 64%|████████████████████████████████████████████████████▋                             | 27/42 [04:46<02:33, 10.24s/it]"
     ]
    },
    {
     "name": "stdout",
     "output_type": "stream",
     "text": [
      "Written 320000 into file ../processed_data/giga_only/disease_corpus_stopwords_c10.txt\n"
     ]
    },
    {
     "name": "stderr",
     "output_type": "stream",
     "text": [
      " 69%|████████████████████████████████████████████████████████▌                         | 29/42 [05:06<02:10, 10.06s/it]"
     ]
    },
    {
     "name": "stdout",
     "output_type": "stream",
     "text": [
      "Written 330000 into file ../processed_data/giga_only/disease_corpus_stopwords_c10.txt\n"
     ]
    },
    {
     "name": "stderr",
     "output_type": "stream",
     "text": [
      " 71%|██████████████████████████████████████████████████████████▌                       | 30/42 [05:16<02:00, 10.05s/it]"
     ]
    },
    {
     "name": "stdout",
     "output_type": "stream",
     "text": [
      "Written 340000 into file ../processed_data/giga_only/disease_corpus_stopwords_c10.txt\n"
     ]
    },
    {
     "name": "stderr",
     "output_type": "stream",
     "text": [
      " 74%|████████████████████████████████████████████████████████████▌                     | 31/42 [05:25<01:49,  9.96s/it]"
     ]
    },
    {
     "name": "stdout",
     "output_type": "stream",
     "text": [
      "Written 350000 into file ../processed_data/giga_only/disease_corpus_stopwords_c10.txt\n"
     ]
    },
    {
     "name": "stderr",
     "output_type": "stream",
     "text": [
      " 79%|████████████████████████████████████████████████████████████████▍                 | 33/42 [05:46<01:30, 10.00s/it]"
     ]
    },
    {
     "name": "stdout",
     "output_type": "stream",
     "text": [
      "Written 360000 into file ../processed_data/giga_only/disease_corpus_stopwords_c10.txt\n"
     ]
    },
    {
     "name": "stderr",
     "output_type": "stream",
     "text": [
      " 83%|████████████████████████████████████████████████████████████████████▎             | 35/42 [06:06<01:10, 10.13s/it]"
     ]
    },
    {
     "name": "stdout",
     "output_type": "stream",
     "text": [
      "Written 370000 into file ../processed_data/giga_only/disease_corpus_stopwords_c10.txt\n"
     ]
    },
    {
     "name": "stderr",
     "output_type": "stream",
     "text": [
      " 86%|██████████████████████████████████████████████████████████████████████▎           | 36/42 [06:16<01:00, 10.17s/it]"
     ]
    },
    {
     "name": "stdout",
     "output_type": "stream",
     "text": [
      "Written 380000 into file ../processed_data/giga_only/disease_corpus_stopwords_c10.txt\n"
     ]
    },
    {
     "name": "stderr",
     "output_type": "stream",
     "text": [
      " 90%|██████████████████████████████████████████████████████████████████████████▏       | 38/42 [06:36<00:40, 10.03s/it]"
     ]
    },
    {
     "name": "stdout",
     "output_type": "stream",
     "text": [
      "Written 390000 into file ../processed_data/giga_only/disease_corpus_stopwords_c10.txt\n"
     ]
    },
    {
     "name": "stderr",
     "output_type": "stream",
     "text": [
      " 95%|██████████████████████████████████████████████████████████████████████████████    | 40/42 [06:55<00:19,  9.83s/it]"
     ]
    },
    {
     "name": "stdout",
     "output_type": "stream",
     "text": [
      "Written 400000 into file ../processed_data/giga_only/disease_corpus_stopwords_c10.txt\n"
     ]
    },
    {
     "name": "stderr",
     "output_type": "stream",
     "text": [
      "100%|██████████████████████████████████████████████████████████████████████████████████| 42/42 [07:07<00:00, 10.17s/it]\n"
     ]
    },
    {
     "name": "stdout",
     "output_type": "stream",
     "text": [
      "\n",
      "\n",
      " DONE WITH CORPUS {corpus}\n",
      "\n",
      "\n"
     ]
    },
    {
     "name": "stderr",
     "output_type": "stream",
     "text": [
      " 33%|███████████████████████████▎                                                      | 14/42 [02:13<04:33,  9.76s/it]"
     ]
    },
    {
     "name": "stdout",
     "output_type": "stream",
     "text": [
      "Written 10000 into file ../processed_data/giga_only/pneumonia_corpus_stopwords_c10.txt\n"
     ]
    },
    {
     "name": "stderr",
     "output_type": "stream",
     "text": [
      " 67%|██████████████████████████████████████████████████████▋                           | 28/42 [04:24<02:09,  9.23s/it]"
     ]
    },
    {
     "name": "stdout",
     "output_type": "stream",
     "text": [
      "Written 20000 into file ../processed_data/giga_only/pneumonia_corpus_stopwords_c10.txt\n"
     ]
    },
    {
     "name": "stderr",
     "output_type": "stream",
     "text": [
      "100%|██████████████████████████████████████████████████████████████████████████████████| 42/42 [06:25<00:00,  9.17s/it]\n"
     ]
    },
    {
     "name": "stdout",
     "output_type": "stream",
     "text": [
      "\n",
      "\n",
      " DONE WITH CORPUS {corpus}\n",
      "\n",
      "\n"
     ]
    },
    {
     "name": "stderr",
     "output_type": "stream",
     "text": [
      "  5%|███▉                                                                               | 2/42 [00:20<06:38,  9.95s/it]"
     ]
    },
    {
     "name": "stdout",
     "output_type": "stream",
     "text": [
      "Written 10000 into file ../processed_data/giga_only/vaccine_corpus_stopwords_c10.txt\n"
     ]
    },
    {
     "name": "stderr",
     "output_type": "stream",
     "text": [
      " 14%|███████████▊                                                                       | 6/42 [00:57<05:42,  9.50s/it]"
     ]
    },
    {
     "name": "stdout",
     "output_type": "stream",
     "text": [
      "Written 20000 into file ../processed_data/giga_only/vaccine_corpus_stopwords_c10.txt\n"
     ]
    },
    {
     "name": "stderr",
     "output_type": "stream",
     "text": [
      " 26%|█████████████████████▍                                                            | 11/42 [01:45<04:57,  9.60s/it]"
     ]
    },
    {
     "name": "stdout",
     "output_type": "stream",
     "text": [
      "Written 30000 into file ../processed_data/giga_only/vaccine_corpus_stopwords_c10.txt\n"
     ]
    },
    {
     "name": "stderr",
     "output_type": "stream",
     "text": [
      " 40%|█████████████████████████████████▏                                                | 17/42 [02:50<04:43, 11.33s/it]"
     ]
    },
    {
     "name": "stdout",
     "output_type": "stream",
     "text": [
      "Written 40000 into file ../processed_data/giga_only/vaccine_corpus_stopwords_c10.txt\n"
     ]
    },
    {
     "name": "stderr",
     "output_type": "stream",
     "text": [
      " 50%|█████████████████████████████████████████                                         | 21/42 [03:30<03:35, 10.26s/it]"
     ]
    },
    {
     "name": "stdout",
     "output_type": "stream",
     "text": [
      "Written 50000 into file ../processed_data/giga_only/vaccine_corpus_stopwords_c10.txt\n"
     ]
    },
    {
     "name": "stderr",
     "output_type": "stream",
     "text": [
      " 57%|██████████████████████████████████████████████▊                                   | 24/42 [03:58<02:57,  9.83s/it]"
     ]
    },
    {
     "name": "stdout",
     "output_type": "stream",
     "text": [
      "Written 60000 into file ../processed_data/giga_only/vaccine_corpus_stopwords_c10.txt\n"
     ]
    },
    {
     "name": "stderr",
     "output_type": "stream",
     "text": [
      " 95%|██████████████████████████████████████████████████████████████████████████████    | 40/42 [06:32<00:18,  9.20s/it]"
     ]
    },
    {
     "name": "stdout",
     "output_type": "stream",
     "text": [
      "Written 70000 into file ../processed_data/giga_only/vaccine_corpus_stopwords_c10.txt\n"
     ]
    },
    {
     "name": "stderr",
     "output_type": "stream",
     "text": [
      "100%|██████████████████████████████████████████████████████████████████████████████████| 42/42 [06:43<00:00,  9.60s/it]\n"
     ]
    },
    {
     "name": "stdout",
     "output_type": "stream",
     "text": [
      "\n",
      "\n",
      " DONE WITH CORPUS {corpus}\n",
      "\n",
      "\n"
     ]
    },
    {
     "name": "stderr",
     "output_type": "stream",
     "text": [
      "  2%|█▉                                                                                 | 1/42 [00:10<07:03, 10.33s/it]"
     ]
    },
    {
     "name": "stdout",
     "output_type": "stream",
     "text": [
      "Written 10000 into file ../processed_data/giga_only/virus_corpus_stopwords_c10.txt\n"
     ]
    },
    {
     "name": "stderr",
     "output_type": "stream",
     "text": [
      "  7%|█████▉                                                                             | 3/42 [00:30<06:40, 10.27s/it]"
     ]
    },
    {
     "name": "stdout",
     "output_type": "stream",
     "text": [
      "Written 20000 into file ../processed_data/giga_only/virus_corpus_stopwords_c10.txt\n"
     ]
    },
    {
     "name": "stderr",
     "output_type": "stream",
     "text": [
      " 10%|███████▉                                                                           | 4/42 [00:40<06:20, 10.01s/it]"
     ]
    },
    {
     "name": "stdout",
     "output_type": "stream",
     "text": [
      "Written 30000 into file ../processed_data/giga_only/virus_corpus_stopwords_c10.txt\n"
     ]
    },
    {
     "name": "stderr",
     "output_type": "stream",
     "text": [
      " 14%|███████████▊                                                                       | 6/42 [00:59<05:50,  9.73s/it]"
     ]
    },
    {
     "name": "stdout",
     "output_type": "stream",
     "text": [
      "Written 40000 into file ../processed_data/giga_only/virus_corpus_stopwords_c10.txt\n"
     ]
    },
    {
     "name": "stderr",
     "output_type": "stream",
     "text": [
      " 19%|███████████████▊                                                                   | 8/42 [01:18<05:30,  9.72s/it]"
     ]
    },
    {
     "name": "stdout",
     "output_type": "stream",
     "text": [
      "Written 50000 into file ../processed_data/giga_only/virus_corpus_stopwords_c10.txt\n"
     ]
    },
    {
     "name": "stderr",
     "output_type": "stream",
     "text": [
      " 24%|███████████████████▌                                                              | 10/42 [01:38<05:13,  9.79s/it]"
     ]
    },
    {
     "name": "stdout",
     "output_type": "stream",
     "text": [
      "Written 60000 into file ../processed_data/giga_only/virus_corpus_stopwords_c10.txt\n"
     ]
    },
    {
     "name": "stderr",
     "output_type": "stream",
     "text": [
      " 31%|█████████████████████████▍                                                        | 13/42 [02:07<04:45,  9.86s/it]"
     ]
    },
    {
     "name": "stdout",
     "output_type": "stream",
     "text": [
      "Written 70000 into file ../processed_data/giga_only/virus_corpus_stopwords_c10.txt\n"
     ]
    },
    {
     "name": "stderr",
     "output_type": "stream",
     "text": [
      " 33%|███████████████████████████▎                                                      | 14/42 [02:18<04:38,  9.94s/it]"
     ]
    },
    {
     "name": "stdout",
     "output_type": "stream",
     "text": [
      "Written 80000 into file ../processed_data/giga_only/virus_corpus_stopwords_c10.txt\n"
     ]
    },
    {
     "name": "stderr",
     "output_type": "stream",
     "text": [
      " 40%|█████████████████████████████████▏                                                | 17/42 [02:47<04:05,  9.82s/it]"
     ]
    },
    {
     "name": "stdout",
     "output_type": "stream",
     "text": [
      "Written 90000 into file ../processed_data/giga_only/virus_corpus_stopwords_c10.txt\n"
     ]
    },
    {
     "name": "stderr",
     "output_type": "stream",
     "text": [
      " 43%|███████████████████████████████████▏                                              | 18/42 [02:57<03:53,  9.75s/it]"
     ]
    },
    {
     "name": "stdout",
     "output_type": "stream",
     "text": [
      "Written 100000 into file ../processed_data/giga_only/virus_corpus_stopwords_c10.txt\n"
     ]
    },
    {
     "name": "stderr",
     "output_type": "stream",
     "text": [
      " 48%|███████████████████████████████████████                                           | 20/42 [03:16<03:31,  9.63s/it]"
     ]
    },
    {
     "name": "stdout",
     "output_type": "stream",
     "text": [
      "Written 110000 into file ../processed_data/giga_only/virus_corpus_stopwords_c10.txt\n"
     ]
    },
    {
     "name": "stderr",
     "output_type": "stream",
     "text": [
      " 52%|██████████████████████████████████████████▉                                       | 22/42 [03:35<03:12,  9.63s/it]"
     ]
    },
    {
     "name": "stdout",
     "output_type": "stream",
     "text": [
      "Written 120000 into file ../processed_data/giga_only/virus_corpus_stopwords_c10.txt\n"
     ]
    },
    {
     "name": "stderr",
     "output_type": "stream",
     "text": [
      " 55%|████████████████████████████████████████████▉                                     | 23/42 [03:44<03:02,  9.62s/it]"
     ]
    },
    {
     "name": "stdout",
     "output_type": "stream",
     "text": [
      "Written 130000 into file ../processed_data/giga_only/virus_corpus_stopwords_c10.txt\n"
     ]
    },
    {
     "name": "stderr",
     "output_type": "stream",
     "text": [
      " 57%|██████████████████████████████████████████████▊                                   | 24/42 [03:55<02:56,  9.79s/it]"
     ]
    },
    {
     "name": "stdout",
     "output_type": "stream",
     "text": [
      "Written 140000 into file ../processed_data/giga_only/virus_corpus_stopwords_c10.txt\n"
     ]
    },
    {
     "name": "stderr",
     "output_type": "stream",
     "text": [
      " 64%|████████████████████████████████████████████████████▋                             | 27/42 [04:23<02:22,  9.47s/it]"
     ]
    },
    {
     "name": "stdout",
     "output_type": "stream",
     "text": [
      "Written 150000 into file ../processed_data/giga_only/virus_corpus_stopwords_c10.txt\n"
     ]
    },
    {
     "name": "stderr",
     "output_type": "stream",
     "text": [
      " 81%|██████████████████████████████████████████████████████████████████▍               | 34/42 [05:27<01:14,  9.30s/it]"
     ]
    },
    {
     "name": "stdout",
     "output_type": "stream",
     "text": [
      "Written 160000 into file ../processed_data/giga_only/virus_corpus_stopwords_c10.txt\n"
     ]
    },
    {
     "name": "stderr",
     "output_type": "stream",
     "text": [
      " 95%|██████████████████████████████████████████████████████████████████████████████    | 40/42 [06:22<00:18,  9.23s/it]"
     ]
    },
    {
     "name": "stdout",
     "output_type": "stream",
     "text": [
      "Written 170000 into file ../processed_data/giga_only/virus_corpus_stopwords_c10.txt\n"
     ]
    },
    {
     "name": "stderr",
     "output_type": "stream",
     "text": [
      "100%|██████████████████████████████████████████████████████████████████████████████████| 42/42 [06:33<00:00,  9.37s/it]\n"
     ]
    },
    {
     "name": "stdout",
     "output_type": "stream",
     "text": [
      "\n",
      "\n",
      " DONE WITH CORPUS {corpus}\n",
      "\n",
      "\n"
     ]
    },
    {
     "name": "stderr",
     "output_type": "stream",
     "text": [
      "  2%|█▉                                                                                 | 1/42 [00:10<06:55, 10.13s/it]"
     ]
    },
    {
     "name": "stdout",
     "output_type": "stream",
     "text": [
      "Written 10000 into file ../processed_data/giga_only/sick_corpus_stopwords_c10.txt\n"
     ]
    },
    {
     "name": "stderr",
     "output_type": "stream",
     "text": [
      " 12%|█████████▉                                                                         | 5/42 [00:46<05:42,  9.26s/it]"
     ]
    },
    {
     "name": "stdout",
     "output_type": "stream",
     "text": [
      "Written 20000 into file ../processed_data/giga_only/sick_corpus_stopwords_c10.txt\n"
     ]
    },
    {
     "name": "stderr",
     "output_type": "stream",
     "text": [
      " 21%|█████████████████▊                                                                 | 9/42 [01:24<05:08,  9.36s/it]"
     ]
    },
    {
     "name": "stdout",
     "output_type": "stream",
     "text": [
      "Written 30000 into file ../processed_data/giga_only/sick_corpus_stopwords_c10.txt\n"
     ]
    },
    {
     "name": "stderr",
     "output_type": "stream",
     "text": [
      " 26%|█████████████████████▍                                                            | 11/42 [01:43<04:51,  9.41s/it]"
     ]
    },
    {
     "name": "stdout",
     "output_type": "stream",
     "text": [
      "Written 40000 into file ../processed_data/giga_only/sick_corpus_stopwords_c10.txt\n"
     ]
    },
    {
     "name": "stderr",
     "output_type": "stream",
     "text": [
      " 33%|███████████████████████████▎                                                      | 14/42 [02:12<04:30,  9.65s/it]"
     ]
    },
    {
     "name": "stdout",
     "output_type": "stream",
     "text": [
      "Written 50000 into file ../processed_data/giga_only/sick_corpus_stopwords_c10.txt\n"
     ]
    },
    {
     "name": "stderr",
     "output_type": "stream",
     "text": [
      " 40%|█████████████████████████████████▏                                                | 17/42 [02:42<04:03,  9.74s/it]"
     ]
    },
    {
     "name": "stdout",
     "output_type": "stream",
     "text": [
      "Written 60000 into file ../processed_data/giga_only/sick_corpus_stopwords_c10.txt\n"
     ]
    },
    {
     "name": "stderr",
     "output_type": "stream",
     "text": [
      " 52%|██████████████████████████████████████████▉                                       | 22/42 [03:28<03:06,  9.34s/it]"
     ]
    },
    {
     "name": "stdout",
     "output_type": "stream",
     "text": [
      "Written 70000 into file ../processed_data/giga_only/sick_corpus_stopwords_c10.txt\n"
     ]
    },
    {
     "name": "stderr",
     "output_type": "stream",
     "text": [
      " 60%|████████████████████████████████████████████████▊                                 | 25/42 [03:57<02:41,  9.53s/it]"
     ]
    },
    {
     "name": "stdout",
     "output_type": "stream",
     "text": [
      "Written 80000 into file ../processed_data/giga_only/sick_corpus_stopwords_c10.txt\n"
     ]
    },
    {
     "name": "stderr",
     "output_type": "stream",
     "text": [
      " 71%|██████████████████████████████████████████████████████████▌                       | 30/42 [04:42<01:49,  9.12s/it]"
     ]
    },
    {
     "name": "stdout",
     "output_type": "stream",
     "text": [
      "Written 90000 into file ../processed_data/giga_only/sick_corpus_stopwords_c10.txt\n"
     ]
    },
    {
     "name": "stderr",
     "output_type": "stream",
     "text": [
      " 88%|████████████████████████████████████████████████████████████████████████▏         | 37/42 [05:48<00:47,  9.46s/it]"
     ]
    },
    {
     "name": "stdout",
     "output_type": "stream",
     "text": [
      "Written 100000 into file ../processed_data/giga_only/sick_corpus_stopwords_c10.txt\n"
     ]
    },
    {
     "name": "stderr",
     "output_type": "stream",
     "text": [
      "100%|██████████████████████████████████████████████████████████████████████████████████| 42/42 [06:27<00:00,  9.21s/it]"
     ]
    },
    {
     "name": "stdout",
     "output_type": "stream",
     "text": [
      "\n",
      "\n",
      " DONE WITH CORPUS {corpus}\n",
      "\n",
      "\n"
     ]
    },
    {
     "name": "stderr",
     "output_type": "stream",
     "text": [
      "\n"
     ]
    }
   ],
   "source": [
    "target_words = ['disease','pneumonia','vaccine','virus','sick']\n",
    "                \n",
    "context_length = 10\n",
    "corpusname = \"giga\" if giga == True else \"wiki\"\n",
    "for target_word in target_words:\n",
    "    line_written = 0\n",
    "    corpus = f\"../processed_data/{corpusname}_only/{target_word}_corpus_stopwords_c{context_length}.txt\"\n",
    "    with open(corpus,'a') as o10:\n",
    "        for file in tqdm(filepath_list):\n",
    "            with open(file,'r',encoding='utf-8') as f:\n",
    "                lines = f.readlines()\n",
    "                for line in lines:\n",
    "                    result = extract(line,target_word,context_length,\"<pad>\",True)\n",
    "                    if result == None:\n",
    "                        continue\n",
    "                    else:\n",
    "                        o10.write(f'{target_word}:')\n",
    "                        o10.write(''.join([i+' ' for i in result] ))\n",
    "                        o10.write('\\n')\n",
    "                        line_written += 1\n",
    "                        if line_written % 10000 == 0:\n",
    "                            print(f\"Written {line_written} into file {corpus}\")\n",
    "        print(\"\\n\\n DONE WITH CORPUS {corpus}\\n\\n\")"
   ]
  },
  {
   "cell_type": "code",
   "execution_count": null,
   "id": "3e8a5f6f-96a9-4d72-b3df-36aa4b3967f8",
   "metadata": {},
   "outputs": [],
   "source": []
  },
  {
   "cell_type": "code",
   "execution_count": null,
   "id": "6a17b780-88dd-4f63-9087-d4bb9a74aee0",
   "metadata": {},
   "outputs": [],
   "source": []
  },
  {
   "cell_type": "code",
   "execution_count": null,
   "id": "6c6b2ea1-0aca-4d7a-90a8-c593543073d6",
   "metadata": {},
   "outputs": [],
   "source": []
  },
  {
   "cell_type": "code",
   "execution_count": 7,
   "id": "141f49ce-f7f9-48e6-88ab-73c95dca4a31",
   "metadata": {},
   "outputs": [],
   "source": [
    "testfile = '../processed_data/infer/covid.txt'\n",
    "target_word='covid'\n",
    "context_length=10\n",
    "with open('../processed_data/infer/covid_c10.txt','w',encoding='utf-8') as z10:\n",
    "    with open(testfile,'r',encoding='utf-8') as f:\n",
    "        lines = f.readlines()\n",
    "        for line in lines:\n",
    "            result = extract(line,target_word,context_length,\"<pad>\",True)\n",
    "            if result == None:\n",
    "                continue\n",
    "            else:\n",
    "                z10.write(f'{target_word}:')\n",
    "                z10.write(''.join([i+' ' for i in result] ))\n",
    "                z10.write('\\n')"
   ]
  },
  {
   "cell_type": "code",
   "execution_count": null,
   "id": "25849a32-5bcb-489f-9b12-70813e91b6b9",
   "metadata": {},
   "outputs": [],
   "source": []
  }
 ],
 "metadata": {
  "kernelspec": {
   "display_name": "Torch",
   "language": "python",
   "name": "torch"
  },
  "language_info": {
   "codemirror_mode": {
    "name": "ipython",
    "version": 3
   },
   "file_extension": ".py",
   "mimetype": "text/x-python",
   "name": "python",
   "nbconvert_exporter": "python",
   "pygments_lexer": "ipython3",
   "version": "3.9.6"
  }
 },
 "nbformat": 4,
 "nbformat_minor": 5
}
