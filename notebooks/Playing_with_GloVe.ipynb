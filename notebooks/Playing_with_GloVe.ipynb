{
 "cells": [
  {
   "cell_type": "code",
   "execution_count": 1,
   "id": "4b1667b7-37b7-4f13-9f1b-513dc14b4ef6",
   "metadata": {},
   "outputs": [],
   "source": [
    "import argparse\n",
    "import numpy as np\n",
    "import sys\n",
    "\n",
    "def generate(file):\n",
    "    words = []\n",
    "    vectors = {}\n",
    "    with open(file, 'r',encoding='utf-8') as f:\n",
    "        lines = f.readlines()\n",
    "        for line in lines:\n",
    "            _temp = line.rstrip().split(' ')\n",
    "            words.append(_temp[0])\n",
    "            vectors[_temp[0]] = [float(x) for x in _temp[1:]]\n",
    "\n",
    "    vocab_size = len(words)\n",
    "    vocab = {w: idx for idx, w in enumerate(words)}\n",
    "    ivocab = {idx: w for idx, w in enumerate(words)}\n",
    "\n",
    "    vector_dim = len(vectors[ivocab[0]])\n",
    "    W = np.zeros((vocab_size, vector_dim))\n",
    "    for word, v in vectors.items():\n",
    "        if word == '<unk>':\n",
    "            continue\n",
    "        W[vocab[word], :] = v\n",
    "\n",
    "    # normalize each word vector to unit variance\n",
    "    W_norm = np.zeros(W.shape)\n",
    "    d = (np.sum(W ** 2, 1) ** (0.5))\n",
    "    W_norm = (W.T / d).T\n",
    "    return (W_norm, vocab, ivocab)\n",
    "\n",
    "\n",
    "def distance(W, vocab, ivocab, input_term):\n",
    "    for idx, term in enumerate(input_term.split(' ')):\n",
    "        if term in vocab:\n",
    "            print('Word: %s  Position in vocabulary: %i' % (term, vocab[term]))\n",
    "            if idx == 0:\n",
    "                vec_result = np.copy(W[vocab[term], :])\n",
    "            else:\n",
    "                vec_result += W[vocab[term], :]\n",
    "        else:\n",
    "            print('Word: %s  Out of dictionary!\\n' % term)\n",
    "            return\n",
    "    \n",
    "    vec_norm = np.zeros(vec_result.shape)\n",
    "    d = (np.sum(vec_result ** 2,) ** (0.5))\n",
    "    vec_norm = (vec_result.T / d).T\n",
    "\n",
    "    dist = np.dot(W, vec_norm.T)\n",
    "\n",
    "    for term in input_term.split(' '):\n",
    "        index = vocab[term]\n",
    "        dist[index] = -np.Inf\n",
    "\n",
    "        \n",
    "\n",
    "    a = np.argsort(-dist)[:10]\n",
    "\n",
    "    print(\"\\n                               Word       Cosine distance\\n\")\n",
    "    print(\"---------------------------------------------------------\\n\")\n",
    "    for x in a:\n",
    "        print(\"%35s\\t\\t%f\\n\" % (ivocab[x], dist[x]))\n",
    "\n",
    "\n",
    "glove_file = '../glove.6B.100d.txt'\n",
    "(W_norm, vocab, ivocab) = generate(glove_file)"
   ]
  },
  {
   "cell_type": "code",
   "execution_count": 3,
   "id": "81aec2bb-e831-4be4-be99-1ddad06a0733",
   "metadata": {},
   "outputs": [],
   "source": [
    "np.save('../processed_data/glove6B100d.npy',W_norm)"
   ]
  },
  {
   "cell_type": "code",
   "execution_count": 10,
   "id": "4a508526-6b1e-4f30-ae0d-25da1f640bc8",
   "metadata": {},
   "outputs": [],
   "source": [
    "import json\n",
    "\n",
    "with open('../processed_data/glove_ivocab.json','w') as f:\n",
    "    json.dump(ivocab,f)"
   ]
  },
  {
   "cell_type": "code",
   "execution_count": 3,
   "id": "c14253ec-5898-4743-b2a9-91630404c5a3",
   "metadata": {
    "scrolled": true,
    "tags": []
   },
   "outputs": [],
   "source": []
  },
  {
   "cell_type": "code",
   "execution_count": null,
   "id": "b76ba900-b5f5-446f-8033-fb6c15e9f7b3",
   "metadata": {},
   "outputs": [],
   "source": []
  },
  {
   "cell_type": "code",
   "execution_count": 4,
   "id": "4ca18316-97e3-4c01-8469-98a44d9bb455",
   "metadata": {},
   "outputs": [
    {
     "name": "stdout",
     "output_type": "stream",
     "text": [
      "(1249, 32, 20, 100)\n"
     ]
    }
   ],
   "source": []
  },
  {
   "cell_type": "code",
   "execution_count": 6,
   "id": "ddd6ff1b-2a79-426b-9992-657dd8e0124a",
   "metadata": {},
   "outputs": [],
   "source": [
    "\n",
    "(10,10,100) -> (10,1,100)"
   ]
  },
  {
   "cell_type": "code",
   "execution_count": 7,
   "id": "ae74c60e-2a93-4dfd-8083-0935c087afee",
   "metadata": {},
   "outputs": [
    {
     "name": "stdout",
     "output_type": "stream",
     "text": [
      "EunbiNet(\n",
      "  (conv1d1): Conv1d(20, 1, kernel_size=(1,), stride=(1,))\n",
      "  (tanh): Tanh()\n",
      ")\n"
     ]
    }
   ],
   "source": [
    "model = EunbiNet(context_length = 10)\n",
    "print(model)"
   ]
  },
  {
   "cell_type": "code",
   "execution_count": 26,
   "id": "382e6e7e-a6de-4e00-bd91-1d1332aec99c",
   "metadata": {},
   "outputs": [],
   "source": []
  },
  {
   "cell_type": "code",
   "execution_count": 9,
   "id": "cce9e007-15bb-4355-9647-a932c94fa355",
   "metadata": {},
   "outputs": [],
   "source": []
  },
  {
   "cell_type": "code",
   "execution_count": 10,
   "id": "d09d9d08-04ac-46f6-8d29-ed0cb0d63dfd",
   "metadata": {},
   "outputs": [],
   "source": []
  },
  {
   "cell_type": "code",
   "execution_count": 27,
   "id": "888d0bf7-4ebd-4cea-99af-70edc45a47bd",
   "metadata": {
    "tags": []
   },
   "outputs": [
    {
     "name": "stdout",
     "output_type": "stream",
     "text": [
      "\tTrain Loss: 11.740 | Train Acc: %\n",
      "\tTrain Loss: 11.667 | Train Acc: %\n",
      "\tTrain Loss: 11.604 | Train Acc: %\n",
      "\tTrain Loss: 11.546 | Train Acc: %\n",
      "\tTrain Loss: 11.492 | Train Acc: %\n",
      "\tTrain Loss: 11.442 | Train Acc: %\n",
      "\tTrain Loss: 11.396 | Train Acc: %\n",
      "\tTrain Loss: 11.352 | Train Acc: %\n",
      "\tTrain Loss: 11.312 | Train Acc: %\n",
      "\tTrain Loss: 11.274 | Train Acc: %\n"
     ]
    }
   ],
   "source": []
  },
  {
   "cell_type": "code",
   "execution_count": 17,
   "id": "2e9cf298-61e5-4245-94c9-309b4b02358b",
   "metadata": {},
   "outputs": [
    {
     "data": {
      "text/plain": [
       "'animation industry for the rest of the century felix the who debuted in became the first animated superstar <pad> <pad> \\n'"
      ]
     },
     "execution_count": 17,
     "metadata": {},
     "output_type": "execute_result"
    }
   ],
   "source": [
    "train_data[0][0]"
   ]
  },
  {
   "cell_type": "code",
   "execution_count": 28,
   "id": "39a79c46-2545-4169-860f-dff0009d01fa",
   "metadata": {},
   "outputs": [],
   "source": [
    "sample_test = 'animation industry for the rest of the century felix the who debuted in became the first animated superstar <pad> <pad>'\n",
    "sample_tensor = torch.Tensor([[get_glove_vec(word) for word in s.split(' ')]])\n",
    "sample_output = model(sample_tensor)\n",
    "\n",
    "output = sample_output.squeeze(1)\n",
    "vec_output = output.detach().numpy()\n",
    "vec_output.shape\n",
    "\n",
    "def __distance(W, vocab, ivocab, vec_output):\n",
    "\n",
    "\n",
    "    dist = np.dot(W, vec_output.T).squeeze(1)\n",
    "    print(dist.shape)\n",
    "    a = np.argsort(-dist)[:1000]\n",
    "\n",
    "    print(\"\\n                               Word       Cosine distance\\n\")\n",
    "    print(\"---------------------------------------------------------\\n\")\n",
    "    for i,x in enumerate(a):\n",
    "        print(\"%d%35s\\t\\t%f\" % (i,ivocab[x], dist[x]))\n",
    "\n",
    "\n",
    "__distance(W_norm,vocab,ivocab,vec_output)\n",
    "\n",
    "def cosim(v1,v2):\n",
    "    return np.dot(v1,v2)\n",
    "\n",
    "cosim(vec_output,target_label)"
   ]
  },
  {
   "cell_type": "code",
   "execution_count": 35,
   "id": "03c168da-996e-400e-8be1-4a05302bec5e",
   "metadata": {},
   "outputs": [
    {
     "data": {
      "text/plain": [
       "(400000, 100)"
      ]
     },
     "execution_count": 35,
     "metadata": {},
     "output_type": "execute_result"
    }
   ],
   "source": [
    "\\"
   ]
  },
  {
   "cell_type": "code",
   "execution_count": null,
   "id": "27917185-e78a-4623-aaac-2119a96ce6a3",
   "metadata": {},
   "outputs": [],
   "source": []
  }
 ],
 "metadata": {
  "kernelspec": {
   "display_name": "Torch",
   "language": "python",
   "name": "torch"
  },
  "language_info": {
   "codemirror_mode": {
    "name": "ipython",
    "version": 3
   },
   "file_extension": ".py",
   "mimetype": "text/x-python",
   "name": "python",
   "nbconvert_exporter": "python",
   "pygments_lexer": "ipython3",
   "version": "3.9.4"
  }
 },
 "nbformat": 4,
 "nbformat_minor": 5
}
